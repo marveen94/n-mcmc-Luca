{
 "cells": [
  {
   "cell_type": "code",
   "execution_count": 2,
   "metadata": {},
   "outputs": [
    {
     "name": "stderr",
     "output_type": "stream",
     "text": [
      "/opt/anaconda3/envs/dpmol/lib/python3.9/site-packages/torchvision/io/image.py:13: UserWarning: Failed to load image Python extension: libtorch_cuda_cu.so: cannot open shared object file: No such file or directory\n",
      "  warn(f\"Failed to load image Python extension: {e}\")\n"
     ]
    }
   ],
   "source": [
    "import numpy as np\n",
    "from src.utils.utils import *\n",
    "import matplotlib.pyplot as plt"
   ]
  },
  {
   "cell_type": "code",
   "execution_count": 3,
   "metadata": {},
   "outputs": [],
   "source": [
    "data_engs = np.load(\"data/conditionalMADE-data/100-10mus/train_10mus-engs.npy\")[:, 0]"
   ]
  },
  {
   "cell_type": "code",
   "execution_count": 4,
   "metadata": {},
   "outputs": [],
   "source": [
    "neigh, coup, len_neigh = get_couplings(10, \"data/couplings/100.txt\")\n",
    "samples = np.load(\"sample-100000_size-101_2023-11-01_21-42-54.npz\")\n",
    "samples = samples[\"sample\"]\n",
    "\n",
    "engs = []\n",
    "for sample in samples:\n",
    "    engs.append(compute_energy(sample.flatten(), neigh, coup, len_neigh)/100)"
   ]
  },
  {
   "cell_type": "code",
   "execution_count": 5,
   "metadata": {},
   "outputs": [
    {
     "data": {
      "image/png": "[encoded data removed]",
      "text/plain": [
       "<Figure size 432x288 with 1 Axes>"
      ]
     },
     "metadata": {
      "needs_background": "light"
     },
     "output_type": "display_data"
    }
   ],
   "source": [
    "binss = np.arange(-1.23, -0.6, 0.01)\n",
    "plt.hist(data_engs, bins=binss, label=\"dataset\")\n",
    "plt.hist(engs, bins=binss, label=\"sampled\", alpha=.6)\n",
    "# plt.yscale(\"log\")\n",
    "plt.legend()\n",
    "plt.show()"
   ]
  },
  {
   "cell_type": "code",
   "execution_count": 6,
   "metadata": {},
   "outputs": [
    {
     "name": "stdout",
     "output_type": "stream",
     "text": [
      "engs mean: -0.07374759300876936\n",
      "engs std: 0.0173661379676595\n"
     ]
    }
   ],
   "source": [
    "# print((np.std(data_engs) + 1)/2)\n",
    "# print((np.mean(data_engs) + 1)/2)\n",
    "\n",
    "# print(np.std(data_engs))\n",
    "# print(np.mean(data_engs))\n",
    "\n",
    "data_engs = (data_engs + 1) / 2\n",
    "print(f\"engs mean: {data_engs.mean()}\")\n",
    "print(f\"engs std: {data_engs.std()}\")\n",
    "data_engs *= 2 - 1"
   ]
  },
  {
   "cell_type": "code",
   "execution_count": null,
   "metadata": {},
   "outputs": [],
   "source": []
  }
 ],
 "metadata": {
  "kernelspec": {
   "display_name": "dpmol",
   "language": "python",
   "name": "python3"
  },
  "language_info": {
   "codemirror_mode": {
    "name": "ipython",
    "version": 3
   },
   "file_extension": ".py",
   "mimetype": "text/x-python",
   "name": "python",
   "nbconvert_exporter": "python",
   "pygments_lexer": "ipython3",
   "version": "3.9.12"
  }
 },
 "nbformat": 4,
 "nbformat_minor": 2
}
